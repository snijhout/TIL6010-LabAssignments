{
 "cells": [
  {
   "cell_type": "markdown",
   "metadata": {},
   "source": [
    "# Research on the Impact of Fly Tax on CO2 Emissions from Commercial Flights in the Netherlands\n",
    "\n",
    "This study explores the influence of the flight tax on the number of flights, passenger demand, and CO2 emissions from flights to and from the Netherlands. The objective is to determine what influence flight taxes have on CO2 emissions.\n",
    "\n",
    "---\n",
    "\n",
    "## Research Question\n",
    "\n",
    "How does the implementation of the flight tax affect CO2 emissions from commercial flights in the Netherlands?\n",
    "\n",
    "---\n",
    "\n",
    "## Sub-Questions\n",
    "\n",
    "### 1. How has the flight tax influenced the number of flights to and from the Netherlands?\n",
    "**Data Required:**\n",
    "- Historical flight data (number of flights per day, month, or year) before and after the flight tax implementation.\n",
    "- [CBS flight data](https://www.cbs.nl/nl-nl/cijfers/detail/37478hvv) (number of passengers/flights per month/year).\n",
    "\n",
    "**Source about the implementation of the flight tax:**\n",
    "- [Link to document](https://www.eerstekamer.nl/behandeling/20201223/publicatie_inwerkingtreding/document3/f=/vletg0l3ujza.pdf).\n",
    "\n",
    "---\n",
    "\n",
    "### 2. How has the flight tax impacted passenger demand for flights to and from the Netherlands?\n",
    "**Data Required:**\n",
    "- Historical passenger data (number of passengers per flight, month, or year) before and after the flight tax implementation.\n",
    "- [Schiphol passenger data](https://www.schiphol.nl/nl/schiphol-group/verkeer-en-vervoer-cijfers/)\n",
    "- [Eurostat passenger data](https://ec.europa.eu/eurostat/databrowser/view/avia_par_nl/default/table?lang=en&category=avia.avia_pa.avia_par)\n",
    "\n",
    "#### 2.1 How will an increase in flight tax impact passenger demand in the future?\n",
    "We will calculate this by evaluating price elasticity, which can be computed using the formula:\n",
    "\n",
    "\\[\n",
    "Elasticity = \\frac{\\% \\text{Change in Quantity}}{\\% \\text{Change in Price}}\n",
    "\\]\n",
    "\n",
    "---\n",
    "\n",
    "### 3. How has the flight tax contributed to reducing CO2 emissions from flights to and from the Netherlands?\n",
    "**Data Required:**\n",
    "- CO2 emissions data per flight or per aircraft type operating from the Netherlands.\n",
    "- Flight distance data (can be retrieved from Eurostat).\n",
    "- [Eurostat flight data](https://ec.europa.eu/eurostat/databrowser/view/avia_par_nl/default/table?lang=en&category=avia.avia_pa.avia_par)\n",
    "- Fuel consumption per flight (depending on aircraft type and flight distance).\n",
    "- Emission factors (kg of CO2 per ton of fuel burned) for different aircraft types.\n",
    "\n",
    "We will use:\n",
    "- **Flight distance**: Calculated with the geopy library based on IATA codes.\n",
    "- **CO2 emissions data**: From datasets such as [Our World in Data](https://ourworldindata.org/grapher/carbon-footprint-travel-mode?tab=table), providing emissions per kilometer for different flight types (domestic, short haul, long haul).\n",
    "\n",
    "---\n",
    "\n",
    "## Conclusion\n",
    "\n",
    "Based on the analysis, the implementation of the flight tax may have had an effect on the number of flights, passenger demand, and consequently on CO2 emissions from commercial flights. The exact impact can be explored further through statistical analysis of the collected data.\n"
   ]
  },
  {
   "cell_type": "markdown",
   "metadata": {},
   "source": []
  }
 ],
 "metadata": {
  "kernelspec": {
   "display_name": "Practising",
   "language": "python",
   "name": "python3"
  },
  "language_info": {
   "name": "python",
   "version": "3.10.15"
  }
 },
 "nbformat": 4,
 "nbformat_minor": 2
}
