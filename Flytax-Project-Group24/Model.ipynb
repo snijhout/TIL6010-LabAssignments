{
 "cells": [
  {
   "cell_type": "code",
   "execution_count": 15,
   "metadata": {},
   "outputs": [
    {
     "name": "stdout",
     "output_type": "stream",
     "text": [
      "              Perioden  Vliegtuigbewegingen\n",
      "0     2000 2e kwartaal             138677.0\n",
      "1     2001 2e kwartaal             135384.0\n",
      "2     2002 2e kwartaal             130088.0\n",
      "3     2003 2e kwartaal             121892.0\n",
      "4     2004 2e kwartaal             128195.0\n",
      "..                 ...                  ...\n",
      "146   2021 2e kwartaal               2805.0\n",
      "147   2022 2e kwartaal               3332.0\n",
      "148  2023 2e kwartaal*               3324.0\n",
      "149  2024 2e kwartaal*               2955.0\n",
      "150                NaN                  NaN\n",
      "\n",
      "[151 rows x 2 columns]\n"
     ]
    }
   ],
   "source": [
    "import pandas as pd\n",
    "\n",
    "# Path to the CSV file\n",
    "file_path = r'C:\\Users\\omniq\\Documents\\GitHub\\TIL6022-LabAssignments\\Flytax-Project-Group24\\Data\\Luchtvaart__maandcijfers_Nederlandse_luchthavens_van_nationaal_belang_09102024_103124.csv'\n",
    "\n",
    "# Read the CSV file into a DataFrame using ; as the separator and skip the first few rows to get to the data\n",
    "df = pd.read_csv(file_path, sep=';', skiprows=4)\n",
    "\n",
    "# Extract the values of the second and third columns by index\n",
    "second_column = df.iloc[:, 1]  # Using index 1 for the second column\n",
    "third_column = df.iloc[:, 2]   # Using index 2 for the third column\n",
    "\n",
    "# Create a new DataFrame with the second and third columns\n",
    "new_df = pd.DataFrame({\n",
    "    'Perioden': second_column,      # Renaming to a more meaningful header if needed\n",
    "    'Vliegtuigbewegingen': third_column\n",
    "})\n",
    "\n",
    "# Display the new DataFrame with headers\n",
    "print(new_df)\n",
    "\n",
    "\n",
    "\n"
   ]
  },
  {
   "cell_type": "code",
   "execution_count": null,
   "metadata": {},
   "outputs": [],
   "source": []
  }
 ],
 "metadata": {
  "kernelspec": {
   "display_name": "TIL6022",
   "language": "python",
   "name": "python3"
  },
  "language_info": {
   "codemirror_mode": {
    "name": "ipython",
    "version": 3
   },
   "file_extension": ".py",
   "mimetype": "text/x-python",
   "name": "python",
   "nbconvert_exporter": "python",
   "pygments_lexer": "ipython3",
   "version": "3.12.5"
  }
 },
 "nbformat": 4,
 "nbformat_minor": 2
}
