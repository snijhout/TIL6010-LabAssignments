{
 "cells": [
  {
   "cell_type": "markdown",
   "metadata": {},
   "source": [
    "Import relevant packages here."
   ]
  },
  {
   "cell_type": "code",
   "execution_count": 74,
   "metadata": {},
   "outputs": [],
   "source": [
    "import matplotlib.pyplot as plt\n",
    "import pandas as pd\n",
    "import numpy as np"
   ]
  },
  {
   "cell_type": "markdown",
   "metadata": {},
   "source": [
    "Load the data and verify it is loaded correctly.\n",
    "<ul>\n",
    "    <li>Print it (head, tail, or specific rows, choose a sensible number of rows).</li>\n",
    "    <li>Compare it to the source file.</li>\n",
    "<ul>"
   ]
  },
  {
   "cell_type": "code",
   "execution_count": 75,
   "metadata": {},
   "outputs": [
    {
     "data": {
      "text/html": [
       "<div>\n",
       "<style scoped>\n",
       "    .dataframe tbody tr th:only-of-type {\n",
       "        vertical-align: middle;\n",
       "    }\n",
       "\n",
       "    .dataframe tbody tr th {\n",
       "        vertical-align: top;\n",
       "    }\n",
       "\n",
       "    .dataframe thead th {\n",
       "        text-align: right;\n",
       "    }\n",
       "</style>\n",
       "<table border=\"1\" class=\"dataframe\">\n",
       "  <thead>\n",
       "    <tr style=\"text-align: right;\">\n",
       "      <th></th>\n",
       "      <th>dv</th>\n",
       "      <th>s</th>\n",
       "      <th>a</th>\n",
       "    </tr>\n",
       "  </thead>\n",
       "  <tbody>\n",
       "    <tr>\n",
       "      <th>1</th>\n",
       "      <td>-0.743240</td>\n",
       "      <td>53.5427</td>\n",
       "      <td>1.242570</td>\n",
       "    </tr>\n",
       "    <tr>\n",
       "      <th>2</th>\n",
       "      <td>-0.557230</td>\n",
       "      <td>53.6120</td>\n",
       "      <td>1.777920</td>\n",
       "    </tr>\n",
       "    <tr>\n",
       "      <th>3</th>\n",
       "      <td>-0.454769</td>\n",
       "      <td>53.6541</td>\n",
       "      <td>0.544107</td>\n",
       "    </tr>\n",
       "    <tr>\n",
       "      <th>4</th>\n",
       "      <td>-0.525396</td>\n",
       "      <td>53.7030</td>\n",
       "      <td>-0.294755</td>\n",
       "    </tr>\n",
       "    <tr>\n",
       "      <th>5</th>\n",
       "      <td>-0.601285</td>\n",
       "      <td>53.7592</td>\n",
       "      <td>-0.290961</td>\n",
       "    </tr>\n",
       "  </tbody>\n",
       "</table>\n",
       "</div>"
      ],
      "text/plain": [
       "         dv        s         a\n",
       "1 -0.743240  53.5427  1.242570\n",
       "2 -0.557230  53.6120  1.777920\n",
       "3 -0.454769  53.6541  0.544107\n",
       "4 -0.525396  53.7030 -0.294755\n",
       "5 -0.601285  53.7592 -0.290961"
      ]
     },
     "metadata": {},
     "output_type": "display_data"
    },
    {
     "data": {
      "text/html": [
       "<div>\n",
       "<style scoped>\n",
       "    .dataframe tbody tr th:only-of-type {\n",
       "        vertical-align: middle;\n",
       "    }\n",
       "\n",
       "    .dataframe tbody tr th {\n",
       "        vertical-align: top;\n",
       "    }\n",
       "\n",
       "    .dataframe thead th {\n",
       "        text-align: right;\n",
       "    }\n",
       "</style>\n",
       "<table border=\"1\" class=\"dataframe\">\n",
       "  <thead>\n",
       "    <tr style=\"text-align: right;\">\n",
       "      <th></th>\n",
       "      <th>dv</th>\n",
       "      <th>s</th>\n",
       "      <th>a</th>\n",
       "    </tr>\n",
       "  </thead>\n",
       "  <tbody>\n",
       "    <tr>\n",
       "      <th>73904</th>\n",
       "      <td>5.19874</td>\n",
       "      <td>116.139</td>\n",
       "      <td>-0.795081</td>\n",
       "    </tr>\n",
       "    <tr>\n",
       "      <th>73905</th>\n",
       "      <td>5.10428</td>\n",
       "      <td>115.627</td>\n",
       "      <td>-0.314263</td>\n",
       "    </tr>\n",
       "    <tr>\n",
       "      <th>73906</th>\n",
       "      <td>5.13764</td>\n",
       "      <td>115.118</td>\n",
       "      <td>0.232283</td>\n",
       "    </tr>\n",
       "    <tr>\n",
       "      <th>73907</th>\n",
       "      <td>5.15348</td>\n",
       "      <td>114.599</td>\n",
       "      <td>0.262078</td>\n",
       "    </tr>\n",
       "    <tr>\n",
       "      <th>73908</th>\n",
       "      <td>5.25868</td>\n",
       "      <td>113.112</td>\n",
       "      <td>-0.612440</td>\n",
       "    </tr>\n",
       "  </tbody>\n",
       "</table>\n",
       "</div>"
      ],
      "text/plain": [
       "            dv        s         a\n",
       "73904  5.19874  116.139 -0.795081\n",
       "73905  5.10428  115.627 -0.314263\n",
       "73906  5.13764  115.118  0.232283\n",
       "73907  5.15348  114.599  0.262078\n",
       "73908  5.25868  113.112 -0.612440"
      ]
     },
     "metadata": {},
     "output_type": "display_data"
    }
   ],
   "source": [
    "data = pd.read_csv('cf_data.csv')\n",
    "data.index = data.index + 1 #file starts at 1 because of columnnames\n",
    "display(data.head(5))\n",
    "display(data.tail(5))\n",
    "\n",
    "\n"
   ]
  },
  {
   "cell_type": "code",
   "execution_count": null,
   "metadata": {},
   "outputs": [],
   "source": []
  },
  {
   "cell_type": "markdown",
   "metadata": {},
   "source": [
    "In the ensuing, you will use <code>numpy</code>.\n",
    "\n",
    "Let's create a grid for the values to plot. But first create <b>two arrays named <code>dv</code> and <code>s</code></b> using <code>numpy.linspace</code> that hold the grid values at the relevant indices in their respective dimension of the grid.\n",
    "\n",
    "Create a <b>grid named <code>a</code></b> with zeros using <code>numpy.zeros</code> in to which calculated acceleration values can be stored.<br>\n",
    "<br>\n",
    "Let the grid span:<br>\n",
    "<ul>\n",
    "    <li>Speed difference <code>dv</code> [m/s]\n",
    "        <ul>\n",
    "            <li>From -10 till 10</li>\n",
    "            <li>With 41 evenly spaced values</li>\n",
    "        </ul>\n",
    "    </li>\n",
    "    <li>Headway <code>s</code> [m]\n",
    "        <ul>\n",
    "            <li>From 0 till 200</li>\n",
    "            <li>With 21 evenly spaced values</li>\n",
    "        </ul>\n",
    "    </li>\n",
    "</ul>"
   ]
  },
  {
   "cell_type": "code",
   "execution_count": 76,
   "metadata": {},
   "outputs": [],
   "source": [
    "\n",
    "dv = np.linspace(-10, 10, 41)\n",
    "s = np.linspace(0, 200, 21)\n",
    "a = np.zeros((len(s), len(dv)))"
   ]
  },
  {
   "cell_type": "markdown",
   "metadata": {},
   "source": [
    "Create from the imported data 3 separate <code>numpy</code> arrays for each column <code>dv</code>, <code>s</code> and <code>a</code>. (We do this for speed reasons later.)\n",
    "<ul>\n",
    "    <li>Make sure to name them differently from the arrays that belong to the grid as above.</li>\n",
    "    <li>You can access the data of each column in a <code>DataFrame</code> using <code>data.xxx</code> where <code>xxx</code> is the column name (not as a string).</li>\n",
    "    <li>Use the method <code>to_numpy()</code> to convert a column to a <code>numpy</code> array.</li>\n",
    "</ul>"
   ]
  },
  {
   "cell_type": "code",
   "execution_count": 77,
   "metadata": {},
   "outputs": [],
   "source": [
    "dv_data = data.dv.to_numpy()\n",
    "s_data = data.s.to_numpy()            \n",
    "a_data = data.a.to_numpy() "
   ]
  },
  {
   "cell_type": "code",
   "execution_count": null,
   "metadata": {},
   "outputs": [],
   "source": []
  },
  {
   "cell_type": "code",
   "execution_count": null,
   "metadata": {},
   "outputs": [],
   "source": []
  },
  {
   "cell_type": "markdown",
   "metadata": {},
   "source": [
    "Create an algorithm that calculates all the acceleration values and stores them in the grid. The algorithm is described visually in the last part of the lecture. At each grid point, it calculates a weighted mean of all measurements. The weights are given by an exponential function, based on the 'distance' between the grid point, and the measurement values of <code>dv</code> and <code>s</code>. To get you started, how many <code>for</code>-loops do you need?<br>\n",
    "<br>\n",
    "For this you will need <code>math</code>.<br>\n",
    "Use an <i>upsilon</i> of 1.5m/s and a <i>sigma</i> of 30m.<br>\n",
    "<br>\n",
    "<b>Warning:</b> This calculation may take some time. So:\n",
    "<ul>\n",
    "    <li>Print a line for each iteration of the outer-most <code>for</code>-loop that shows you the progress.</li>\n",
    "    <li>Test you code by running it only on the first 50 measurements of the data.</li>\n",
    "</ul>"
   ]
  },
  {
   "cell_type": "code",
   "execution_count": 78,
   "metadata": {
    "scrolled": true
   },
   "outputs": [
    {
     "name": "stdout",
     "output_type": "stream",
     "text": [
      "Iteration 1 van 41\n",
      "Iteration 2 van 41\n",
      "Iteration 3 van 41\n",
      "Iteration 4 van 41\n",
      "Iteration 5 van 41\n",
      "Iteration 6 van 41\n",
      "Iteration 7 van 41\n",
      "Iteration 8 van 41\n",
      "Iteration 9 van 41\n",
      "Iteration 10 van 41\n",
      "Iteration 11 van 41\n",
      "Iteration 12 van 41\n",
      "Iteration 13 van 41\n",
      "Iteration 14 van 41\n",
      "Iteration 15 van 41\n",
      "Iteration 16 van 41\n",
      "Iteration 17 van 41\n",
      "Iteration 18 van 41\n",
      "Iteration 19 van 41\n",
      "Iteration 20 van 41\n",
      "Iteration 21 van 41\n",
      "Iteration 22 van 41\n",
      "Iteration 23 van 41\n",
      "Iteration 24 van 41\n",
      "Iteration 25 van 41\n",
      "Iteration 26 van 41\n",
      "Iteration 27 van 41\n",
      "Iteration 28 van 41\n",
      "Iteration 29 van 41\n",
      "Iteration 30 van 41\n",
      "Iteration 31 van 41\n",
      "Iteration 32 van 41\n",
      "Iteration 33 van 41\n",
      "Iteration 34 van 41\n",
      "Iteration 35 van 41\n",
      "Iteration 36 van 41\n",
      "Iteration 37 van 41\n",
      "Iteration 38 van 41\n",
      "Iteration 39 van 41\n",
      "Iteration 40 van 41\n",
      "Iteration 41 van 41\n"
     ]
    }
   ],
   "source": [
    "\n",
    "upsilon = 1.5  # m/s\n",
    "sigma = 30     # m\n",
    "\n",
    "for i in range(len(dv)):  # Loping speed difference (X-as)\n",
    "    print(f\"Iteration {i+1} van {len(dv)}\")\n",
    "    for j in range(len(s)):  # Loping headway (Y-as)\n",
    "        dv_grid = dv[i]\n",
    "        s_grid = s[j]\n",
    "        \n",
    "        # Calculate weights absolute\n",
    "        weights = np.exp(-np.abs((dv_grid - dv_data) / upsilon) - np.abs((s_grid - s_data) / sigma))\n",
    "        weighted_sum = np.sum(weights * a_data)\n",
    "        weight_total = np.sum(weights)\n",
    "        \n",
    "        # Not dividing by zero\n",
    "        if weight_total > 0:\n",
    "            a[j, i] = weighted_sum / weight_total  \n",
    "        else:\n",
    "            a[j, i] = 0\n"
   ]
  },
  {
   "cell_type": "code",
   "execution_count": null,
   "metadata": {},
   "outputs": [],
   "source": []
  },
  {
   "cell_type": "markdown",
   "metadata": {},
   "source": [
    "The following code will plot the data for you. Does it make sense when considering:\n",
    "<ul>\n",
    "    <li>Negative (slower than leader) and positive (faster than leader) speed differences?</li>\n",
    "    <li>Small and large headways?</li>\n",
    "</ul>"
   ]
  },
  {
   "cell_type": "code",
   "execution_count": 79,
   "metadata": {},
   "outputs": [
    {
     "data": {
      "image/png": "[encoded data removed]",
      "text/plain": [
       "<Figure size 720x504 with 2 Axes>"
      ]
     },
     "metadata": {
      "needs_background": "light"
     },
     "output_type": "display_data"
    }
   ],
   "source": [
    "\n",
    "X, Y = np.meshgrid(dv, s)  \n",
    "fig, ax = plt.subplots(figsize=(10, 7))\n",
    "c = ax.pcolormesh(X, Y, a, shading='auto', cmap='viridis')\n",
    "ax.set_title('Acceleration [m/s²]')\n",
    "ax.set_xlabel('Speed difference [m/s]')\n",
    "ax.set_ylabel('Headway [m]')\n",
    "ax.set_xlim(dv.min(), dv.max())\n",
    "ax.set_ylim(s.min(), s.max())   \n",
    "fig.colorbar(c, ax=ax)\n",
    "plt.show()\n",
    "\n"
   ]
  },
  {
   "cell_type": "code",
   "execution_count": null,
   "metadata": {},
   "outputs": [],
   "source": []
  },
  {
   "cell_type": "code",
   "execution_count": null,
   "metadata": {},
   "outputs": [],
   "source": []
  }
 ],
 "metadata": {
  "kernelspec": {
   "display_name": "Python 3",
   "language": "python",
   "name": "python3"
  },
  "language_info": {
   "codemirror_mode": {
    "name": "ipython",
    "version": 3
   },
   "file_extension": ".py",
   "mimetype": "text/x-python",
   "name": "python",
   "nbconvert_exporter": "python",
   "pygments_lexer": "ipython3",
   "version": "3.8.5"
  }
 },
 "nbformat": 4,
 "nbformat_minor": 5
}
